{
 "cells": [
  {
   "cell_type": "code",
   "execution_count": 3,
   "metadata": {},
   "outputs": [],
   "source": [
    "# PRAW: The Python Reddit API Wrapper\n",
    "import praw"
   ]
  },
  {
   "cell_type": "code",
   "execution_count": 4,
   "metadata": {},
   "outputs": [],
   "source": [
    "# Private info\n",
    "%run reddit_keys.py"
   ]
  },
  {
   "cell_type": "code",
   "execution_count": null,
   "metadata": {},
   "outputs": [],
   "source": [
    "# Reddit API\n",
    "reddit = praw.Reddit(\n",
    "    username=username, password=password,\n",
    "    client_id=client_id, client_secret=client_secret,\n",
    "    user_agent=\"a custom python script for user /\" + str(username)\n",
    ")\n",
    "\n",
    "\n",
    "# Function to check if the Redditor is a moderator\n",
    "def check_moderator_status(username):\n",
    "    print(\"Checking moderator status for Redditor:\", username)\n",
    "\n",
    "    redditor = reddit.redditor(username)\n",
    "\n",
    "    # Check if the Redditor is a moderator\n",
    "    moderated_subreddits = list(redditor.moderated())\n",
    "    if moderated_subreddits:\n",
    "        print(\"This person is a loser. They are a moderator on the following subreddits:\")\n",
    "        for subreddit in moderated_subreddits:\n",
    "            print(\"List of the users' subreddits\")\n",
    "            # If you really wanted to print the subreddits, figure it out here\n",
    "            # https://praw.readthedocs.io/en/stable/code_overview/models/redditor.html\n",
    "    else:\n",
    "        print(\"This person is not a moderator on any subreddits.\")\n",
    "\n",
    "def main():\n",
    "    # Ask the user for the Redditor username\n",
    "    username = input(\"Enter the Redditor username to check moderator status: \")\n",
    "    check_moderator_status(username)\n",
    "\n",
    "if __name__ == '__main__':\n",
    "    main()"
   ]
  }
 ],
 "metadata": {
  "kernelspec": {
   "display_name": "Python 3 (ipykernel)",
   "language": "python",
   "name": "python3"
  },
  "language_info": {
   "codemirror_mode": {
    "name": "ipython",
    "version": 3
   },
   "file_extension": ".py",
   "mimetype": "text/x-python",
   "name": "python",
   "nbconvert_exporter": "python",
   "pygments_lexer": "ipython3",
   "version": "3.11.3"
  },
  "orig_nbformat": 4
 },
 "nbformat": 4,
 "nbformat_minor": 2
}
